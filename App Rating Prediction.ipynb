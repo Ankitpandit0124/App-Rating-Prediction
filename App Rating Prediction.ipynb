{
 "cells": [
  {
   "cell_type": "markdown",
   "id": "6e39d884-a0ba-48a8-9eb1-e689430c9ded",
   "metadata": {},
   "source": [
    "# Details of Dataset\n",
    "The dataset comes in two pieces: objective information (app statistics like size, # of installs, price, category, # of reviews, type, content rating, genres, last updated, current version, and minimum required Android version, and the aggregated number of stars) and user reviews (the review itself, positive/negative/neutral sentiment, sentiment polarity, and sentiment subjectivity). I suspected that the objective information would contribute much more to the overarching goals of the project."
   ]
  },
  {
   "cell_type": "code",
   "execution_count": null,
   "id": "a16990ea-8fff-402c-b8e1-23a6f1b802fd",
   "metadata": {},
   "outputs": [],
   "source": []
  },
  {
   "cell_type": "markdown",
   "id": "67212fbc-0612-4c94-be13-41f13f55c97c",
   "metadata": {},
   "source": [
    "# Problem Statement\n",
    "The Internet is a true gold mine of data. E-commerce and review sites are brimming with a lot of untapped data with a prominent potential to convert into meaningful insights that can help with robust decision making. Here, I have explored using data science and machine learning techniques on data retrieved from one such avenue on the internet, the Google Play Store. I have predicted rating of an app. Used following pipeline to accomplish this task.\n",
    "\n",
    "1.Data Wrangling and Preprocessing\n",
    "2.Exploratory Data Analysis\n",
    "3.Feature Selection\n",
    "4.Model Training\n",
    "5.Testing and Optimization"
   ]
  },
  {
   "cell_type": "code",
   "execution_count": 2,
   "id": "9428b000-f5ef-4143-84c6-77bcbe98486e",
   "metadata": {},
   "outputs": [],
   "source": [
    "import pandas as pd\n",
    "import numpy as np\n",
    "import seaborn as sns\n",
    "import matplotlib.pyplot as plt\n",
    "\n",
    "from sklearn import linear_model #For missing values\n",
    "from sklearn.preprocessing import StandardScaler #For scaling features\n",
    "\n",
    "from sklearn.model_selection import train_test_split\n",
    "from sklearn.metrics import mean_squared_error\n",
    "from sklearn.ensemble import RandomForestRegressor #Random Forest Regressor\n",
    "from sklearn.ensemble import BaggingRegressor #Bagging Regressor\n",
    "from sklearn.neighbors import KNeighborsRegressor #KNN Regressor\n",
    "from sklearn.linear_model import LinearRegression #Linear Regressor"
   ]
  },
  {
   "cell_type": "code",
   "execution_count": 3,
   "id": "99c5f596-c20c-495b-bca5-b43b715ac836",
   "metadata": {},
   "outputs": [
    {
     "data": {
      "text/html": [
       "<div>\n",
       "<style scoped>\n",
       "    .dataframe tbody tr th:only-of-type {\n",
       "        vertical-align: middle;\n",
       "    }\n",
       "\n",
       "    .dataframe tbody tr th {\n",
       "        vertical-align: top;\n",
       "    }\n",
       "\n",
       "    .dataframe thead th {\n",
       "        text-align: right;\n",
       "    }\n",
       "</style>\n",
       "<table border=\"1\" class=\"dataframe\">\n",
       "  <thead>\n",
       "    <tr style=\"text-align: right;\">\n",
       "      <th></th>\n",
       "      <th>App</th>\n",
       "      <th>Category</th>\n",
       "      <th>Rating</th>\n",
       "      <th>Reviews</th>\n",
       "      <th>Size</th>\n",
       "      <th>Installs</th>\n",
       "      <th>Type</th>\n",
       "      <th>Price</th>\n",
       "      <th>Content Rating</th>\n",
       "      <th>Genres</th>\n",
       "      <th>Last Updated</th>\n",
       "      <th>Current Ver</th>\n",
       "      <th>Android Ver</th>\n",
       "    </tr>\n",
       "  </thead>\n",
       "  <tbody>\n",
       "    <tr>\n",
       "      <th>0</th>\n",
       "      <td>Photo Editor &amp; Candy Camera &amp; Grid &amp; ScrapBook</td>\n",
       "      <td>ART_AND_DESIGN</td>\n",
       "      <td>4.1</td>\n",
       "      <td>159</td>\n",
       "      <td>19M</td>\n",
       "      <td>10,000+</td>\n",
       "      <td>Free</td>\n",
       "      <td>0</td>\n",
       "      <td>Everyone</td>\n",
       "      <td>Art &amp; Design</td>\n",
       "      <td>January 7, 2018</td>\n",
       "      <td>1.0.0</td>\n",
       "      <td>4.0.3 and up</td>\n",
       "    </tr>\n",
       "    <tr>\n",
       "      <th>1</th>\n",
       "      <td>Coloring book moana</td>\n",
       "      <td>ART_AND_DESIGN</td>\n",
       "      <td>3.9</td>\n",
       "      <td>967</td>\n",
       "      <td>14M</td>\n",
       "      <td>500,000+</td>\n",
       "      <td>Free</td>\n",
       "      <td>0</td>\n",
       "      <td>Everyone</td>\n",
       "      <td>Art &amp; Design;Pretend Play</td>\n",
       "      <td>January 15, 2018</td>\n",
       "      <td>2.0.0</td>\n",
       "      <td>4.0.3 and up</td>\n",
       "    </tr>\n",
       "    <tr>\n",
       "      <th>2</th>\n",
       "      <td>U Launcher Lite â€“ FREE Live Cool Themes, Hid...</td>\n",
       "      <td>ART_AND_DESIGN</td>\n",
       "      <td>4.7</td>\n",
       "      <td>87510</td>\n",
       "      <td>8.7M</td>\n",
       "      <td>5,000,000+</td>\n",
       "      <td>Free</td>\n",
       "      <td>0</td>\n",
       "      <td>Everyone</td>\n",
       "      <td>Art &amp; Design</td>\n",
       "      <td>August 1, 2018</td>\n",
       "      <td>1.2.4</td>\n",
       "      <td>4.0.3 and up</td>\n",
       "    </tr>\n",
       "    <tr>\n",
       "      <th>3</th>\n",
       "      <td>Sketch - Draw &amp; Paint</td>\n",
       "      <td>ART_AND_DESIGN</td>\n",
       "      <td>4.5</td>\n",
       "      <td>215644</td>\n",
       "      <td>25M</td>\n",
       "      <td>50,000,000+</td>\n",
       "      <td>Free</td>\n",
       "      <td>0</td>\n",
       "      <td>Teen</td>\n",
       "      <td>Art &amp; Design</td>\n",
       "      <td>June 8, 2018</td>\n",
       "      <td>Varies with device</td>\n",
       "      <td>4.2 and up</td>\n",
       "    </tr>\n",
       "    <tr>\n",
       "      <th>4</th>\n",
       "      <td>Pixel Draw - Number Art Coloring Book</td>\n",
       "      <td>ART_AND_DESIGN</td>\n",
       "      <td>4.3</td>\n",
       "      <td>967</td>\n",
       "      <td>2.8M</td>\n",
       "      <td>100,000+</td>\n",
       "      <td>Free</td>\n",
       "      <td>0</td>\n",
       "      <td>Everyone</td>\n",
       "      <td>Art &amp; Design;Creativity</td>\n",
       "      <td>June 20, 2018</td>\n",
       "      <td>1.1</td>\n",
       "      <td>4.4 and up</td>\n",
       "    </tr>\n",
       "    <tr>\n",
       "      <th>...</th>\n",
       "      <td>...</td>\n",
       "      <td>...</td>\n",
       "      <td>...</td>\n",
       "      <td>...</td>\n",
       "      <td>...</td>\n",
       "      <td>...</td>\n",
       "      <td>...</td>\n",
       "      <td>...</td>\n",
       "      <td>...</td>\n",
       "      <td>...</td>\n",
       "      <td>...</td>\n",
       "      <td>...</td>\n",
       "      <td>...</td>\n",
       "    </tr>\n",
       "    <tr>\n",
       "      <th>10836</th>\n",
       "      <td>Sya9a Maroc - FR</td>\n",
       "      <td>FAMILY</td>\n",
       "      <td>4.5</td>\n",
       "      <td>38</td>\n",
       "      <td>53M</td>\n",
       "      <td>5,000+</td>\n",
       "      <td>Free</td>\n",
       "      <td>0</td>\n",
       "      <td>Everyone</td>\n",
       "      <td>Education</td>\n",
       "      <td>July 25, 2017</td>\n",
       "      <td>1.48</td>\n",
       "      <td>4.1 and up</td>\n",
       "    </tr>\n",
       "    <tr>\n",
       "      <th>10837</th>\n",
       "      <td>Fr. Mike Schmitz Audio Teachings</td>\n",
       "      <td>FAMILY</td>\n",
       "      <td>5.0</td>\n",
       "      <td>4</td>\n",
       "      <td>3.6M</td>\n",
       "      <td>100+</td>\n",
       "      <td>Free</td>\n",
       "      <td>0</td>\n",
       "      <td>Everyone</td>\n",
       "      <td>Education</td>\n",
       "      <td>July 6, 2018</td>\n",
       "      <td>1</td>\n",
       "      <td>4.1 and up</td>\n",
       "    </tr>\n",
       "    <tr>\n",
       "      <th>10838</th>\n",
       "      <td>Parkinson Exercices FR</td>\n",
       "      <td>MEDICAL</td>\n",
       "      <td>NaN</td>\n",
       "      <td>3</td>\n",
       "      <td>9.5M</td>\n",
       "      <td>1,000+</td>\n",
       "      <td>Free</td>\n",
       "      <td>0</td>\n",
       "      <td>Everyone</td>\n",
       "      <td>Medical</td>\n",
       "      <td>January 20, 2017</td>\n",
       "      <td>1</td>\n",
       "      <td>2.2 and up</td>\n",
       "    </tr>\n",
       "    <tr>\n",
       "      <th>10839</th>\n",
       "      <td>The SCP Foundation DB fr nn5n</td>\n",
       "      <td>BOOKS_AND_REFERENCE</td>\n",
       "      <td>4.5</td>\n",
       "      <td>114</td>\n",
       "      <td>Varies with device</td>\n",
       "      <td>1,000+</td>\n",
       "      <td>Free</td>\n",
       "      <td>0</td>\n",
       "      <td>Mature 17+</td>\n",
       "      <td>Books &amp; Reference</td>\n",
       "      <td>January 19, 2015</td>\n",
       "      <td>Varies with device</td>\n",
       "      <td>Varies with device</td>\n",
       "    </tr>\n",
       "    <tr>\n",
       "      <th>10840</th>\n",
       "      <td>iHoroscope - 2018 Daily Horoscope &amp; Astrology</td>\n",
       "      <td>LIFESTYLE</td>\n",
       "      <td>4.5</td>\n",
       "      <td>398307</td>\n",
       "      <td>19M</td>\n",
       "      <td>10,000,000+</td>\n",
       "      <td>Free</td>\n",
       "      <td>0</td>\n",
       "      <td>Everyone</td>\n",
       "      <td>Lifestyle</td>\n",
       "      <td>July 25, 2018</td>\n",
       "      <td>Varies with device</td>\n",
       "      <td>Varies with device</td>\n",
       "    </tr>\n",
       "  </tbody>\n",
       "</table>\n",
       "<p>10841 rows × 13 columns</p>\n",
       "</div>"
      ],
      "text/plain": [
       "                                                     App             Category  \\\n",
       "0         Photo Editor & Candy Camera & Grid & ScrapBook       ART_AND_DESIGN   \n",
       "1                                    Coloring book moana       ART_AND_DESIGN   \n",
       "2      U Launcher Lite â€“ FREE Live Cool Themes, Hid...       ART_AND_DESIGN   \n",
       "3                                  Sketch - Draw & Paint       ART_AND_DESIGN   \n",
       "4                  Pixel Draw - Number Art Coloring Book       ART_AND_DESIGN   \n",
       "...                                                  ...                  ...   \n",
       "10836                                   Sya9a Maroc - FR               FAMILY   \n",
       "10837                   Fr. Mike Schmitz Audio Teachings               FAMILY   \n",
       "10838                             Parkinson Exercices FR              MEDICAL   \n",
       "10839                      The SCP Foundation DB fr nn5n  BOOKS_AND_REFERENCE   \n",
       "10840      iHoroscope - 2018 Daily Horoscope & Astrology            LIFESTYLE   \n",
       "\n",
       "       Rating Reviews                Size     Installs  Type Price  \\\n",
       "0         4.1     159                 19M      10,000+  Free     0   \n",
       "1         3.9     967                 14M     500,000+  Free     0   \n",
       "2         4.7   87510                8.7M   5,000,000+  Free     0   \n",
       "3         4.5  215644                 25M  50,000,000+  Free     0   \n",
       "4         4.3     967                2.8M     100,000+  Free     0   \n",
       "...       ...     ...                 ...          ...   ...   ...   \n",
       "10836     4.5      38                 53M       5,000+  Free     0   \n",
       "10837     5.0       4                3.6M         100+  Free     0   \n",
       "10838     NaN       3                9.5M       1,000+  Free     0   \n",
       "10839     4.5     114  Varies with device       1,000+  Free     0   \n",
       "10840     4.5  398307                 19M  10,000,000+  Free     0   \n",
       "\n",
       "      Content Rating                     Genres      Last Updated  \\\n",
       "0           Everyone               Art & Design   January 7, 2018   \n",
       "1           Everyone  Art & Design;Pretend Play  January 15, 2018   \n",
       "2           Everyone               Art & Design    August 1, 2018   \n",
       "3               Teen               Art & Design      June 8, 2018   \n",
       "4           Everyone    Art & Design;Creativity     June 20, 2018   \n",
       "...              ...                        ...               ...   \n",
       "10836       Everyone                  Education     July 25, 2017   \n",
       "10837       Everyone                  Education      July 6, 2018   \n",
       "10838       Everyone                    Medical  January 20, 2017   \n",
       "10839     Mature 17+          Books & Reference  January 19, 2015   \n",
       "10840       Everyone                  Lifestyle     July 25, 2018   \n",
       "\n",
       "              Current Ver         Android Ver  \n",
       "0                   1.0.0        4.0.3 and up  \n",
       "1                   2.0.0        4.0.3 and up  \n",
       "2                   1.2.4        4.0.3 and up  \n",
       "3      Varies with device          4.2 and up  \n",
       "4                     1.1          4.4 and up  \n",
       "...                   ...                 ...  \n",
       "10836                1.48          4.1 and up  \n",
       "10837                   1          4.1 and up  \n",
       "10838                   1          2.2 and up  \n",
       "10839  Varies with device  Varies with device  \n",
       "10840  Varies with device  Varies with device  \n",
       "\n",
       "[10841 rows x 13 columns]"
      ]
     },
     "execution_count": 3,
     "metadata": {},
     "output_type": "execute_result"
    }
   ],
   "source": [
    "data=pd.read_csv(\"C:\\\\Users\\\\LENOVO\\\\Desktop\\\\googleplaystore.csv\")\n",
    "data"
   ]
  },
  {
   "cell_type": "code",
   "execution_count": 4,
   "id": "48d67738-e2a8-47fa-8e0d-b73db8287e3d",
   "metadata": {},
   "outputs": [
    {
     "data": {
      "text/plain": [
       "(10841, 13)"
      ]
     },
     "execution_count": 4,
     "metadata": {},
     "output_type": "execute_result"
    }
   ],
   "source": [
    "data.shape"
   ]
  },
  {
   "cell_type": "code",
   "execution_count": 5,
   "id": "5785023c-e516-45a1-80fb-08d937bfd382",
   "metadata": {},
   "outputs": [
    {
     "data": {
      "text/plain": [
       "Index(['App', 'Category', 'Rating', 'Reviews', 'Size', 'Installs', 'Type',\n",
       "       'Price', 'Content Rating', 'Genres', 'Last Updated', 'Current Ver',\n",
       "       'Android Ver'],\n",
       "      dtype='object')"
      ]
     },
     "execution_count": 5,
     "metadata": {},
     "output_type": "execute_result"
    }
   ],
   "source": [
    "data.columns"
   ]
  },
  {
   "cell_type": "code",
   "execution_count": 6,
   "id": "27cafee4-94c8-47da-aa0c-c6497c11c0ff",
   "metadata": {},
   "outputs": [
    {
     "data": {
      "text/plain": [
       "<bound method NDFrame.describe of                                                      App             Category  \\\n",
       "0         Photo Editor & Candy Camera & Grid & ScrapBook       ART_AND_DESIGN   \n",
       "1                                    Coloring book moana       ART_AND_DESIGN   \n",
       "2      U Launcher Lite â€“ FREE Live Cool Themes, Hid...       ART_AND_DESIGN   \n",
       "3                                  Sketch - Draw & Paint       ART_AND_DESIGN   \n",
       "4                  Pixel Draw - Number Art Coloring Book       ART_AND_DESIGN   \n",
       "...                                                  ...                  ...   \n",
       "10836                                   Sya9a Maroc - FR               FAMILY   \n",
       "10837                   Fr. Mike Schmitz Audio Teachings               FAMILY   \n",
       "10838                             Parkinson Exercices FR              MEDICAL   \n",
       "10839                      The SCP Foundation DB fr nn5n  BOOKS_AND_REFERENCE   \n",
       "10840      iHoroscope - 2018 Daily Horoscope & Astrology            LIFESTYLE   \n",
       "\n",
       "       Rating Reviews                Size     Installs  Type Price  \\\n",
       "0         4.1     159                 19M      10,000+  Free     0   \n",
       "1         3.9     967                 14M     500,000+  Free     0   \n",
       "2         4.7   87510                8.7M   5,000,000+  Free     0   \n",
       "3         4.5  215644                 25M  50,000,000+  Free     0   \n",
       "4         4.3     967                2.8M     100,000+  Free     0   \n",
       "...       ...     ...                 ...          ...   ...   ...   \n",
       "10836     4.5      38                 53M       5,000+  Free     0   \n",
       "10837     5.0       4                3.6M         100+  Free     0   \n",
       "10838     NaN       3                9.5M       1,000+  Free     0   \n",
       "10839     4.5     114  Varies with device       1,000+  Free     0   \n",
       "10840     4.5  398307                 19M  10,000,000+  Free     0   \n",
       "\n",
       "      Content Rating                     Genres      Last Updated  \\\n",
       "0           Everyone               Art & Design   January 7, 2018   \n",
       "1           Everyone  Art & Design;Pretend Play  January 15, 2018   \n",
       "2           Everyone               Art & Design    August 1, 2018   \n",
       "3               Teen               Art & Design      June 8, 2018   \n",
       "4           Everyone    Art & Design;Creativity     June 20, 2018   \n",
       "...              ...                        ...               ...   \n",
       "10836       Everyone                  Education     July 25, 2017   \n",
       "10837       Everyone                  Education      July 6, 2018   \n",
       "10838       Everyone                    Medical  January 20, 2017   \n",
       "10839     Mature 17+          Books & Reference  January 19, 2015   \n",
       "10840       Everyone                  Lifestyle     July 25, 2018   \n",
       "\n",
       "              Current Ver         Android Ver  \n",
       "0                   1.0.0        4.0.3 and up  \n",
       "1                   2.0.0        4.0.3 and up  \n",
       "2                   1.2.4        4.0.3 and up  \n",
       "3      Varies with device          4.2 and up  \n",
       "4                     1.1          4.4 and up  \n",
       "...                   ...                 ...  \n",
       "10836                1.48          4.1 and up  \n",
       "10837                   1          4.1 and up  \n",
       "10838                   1          2.2 and up  \n",
       "10839  Varies with device  Varies with device  \n",
       "10840  Varies with device  Varies with device  \n",
       "\n",
       "[10841 rows x 13 columns]>"
      ]
     },
     "execution_count": 6,
     "metadata": {},
     "output_type": "execute_result"
    }
   ],
   "source": [
    "data.describe"
   ]
  },
  {
   "cell_type": "code",
   "execution_count": 7,
   "id": "a2052469-c65f-4220-bc0f-f39c7b6d21a9",
   "metadata": {},
   "outputs": [
    {
     "data": {
      "text/plain": [
       "App                object\n",
       "Category           object\n",
       "Rating            float64\n",
       "Reviews            object\n",
       "Size               object\n",
       "Installs           object\n",
       "Type               object\n",
       "Price              object\n",
       "Content Rating     object\n",
       "Genres             object\n",
       "Last Updated       object\n",
       "Current Ver        object\n",
       "Android Ver        object\n",
       "dtype: object"
      ]
     },
     "execution_count": 7,
     "metadata": {},
     "output_type": "execute_result"
    }
   ],
   "source": [
    "data.dtypes"
   ]
  },
  {
   "cell_type": "markdown",
   "id": "5fc1466a-6240-44fa-8aa7-c79363e0cbaf",
   "metadata": {},
   "source": [
    "# Data Wrangling and Preprocessing\n",
    "The vast majority of this project was about cleaning up and preprocessing the data. Since all of the data was scraped directly from the Google Play Store, there were a lot of errors in transcription (NaN values representing nothing scraped, shifted data columns, etc.) and categorical values to translate or encode. The steps involved in Preprocessing are as follows:\n",
    "\n",
    "Look for Null or Missing Values\n",
    "Change data type of features, if required\n",
    "Encode data of categorical features\n",
    "Deal with Null or Missing values"
   ]
  },
  {
   "cell_type": "code",
   "execution_count": 8,
   "id": "78a881e1-ba12-4423-83a7-4dc740ac3fd7",
   "metadata": {},
   "outputs": [],
   "source": [
    "data = data.drop(columns=['App', 'Last Updated', 'Current Ver', 'Android Ver'])"
   ]
  },
  {
   "cell_type": "code",
   "execution_count": 9,
   "id": "958a1670-015b-4ae5-8011-9d401fd0735f",
   "metadata": {},
   "outputs": [
    {
     "data": {
      "text/plain": [
       "Category             0\n",
       "Rating            1474\n",
       "Reviews              0\n",
       "Size                 0\n",
       "Installs             0\n",
       "Type                 1\n",
       "Price                0\n",
       "Content Rating       1\n",
       "Genres               0\n",
       "dtype: int64"
      ]
     },
     "execution_count": 9,
     "metadata": {},
     "output_type": "execute_result"
    }
   ],
   "source": [
    "data.isnull().sum()"
   ]
  },
  {
   "cell_type": "code",
   "execution_count": 10,
   "id": "5460700b-0393-41f4-90b8-e3a59168a46f",
   "metadata": {},
   "outputs": [
    {
     "data": {
      "text/html": [
       "<div>\n",
       "<style scoped>\n",
       "    .dataframe tbody tr th:only-of-type {\n",
       "        vertical-align: middle;\n",
       "    }\n",
       "\n",
       "    .dataframe tbody tr th {\n",
       "        vertical-align: top;\n",
       "    }\n",
       "\n",
       "    .dataframe thead th {\n",
       "        text-align: right;\n",
       "    }\n",
       "</style>\n",
       "<table border=\"1\" class=\"dataframe\">\n",
       "  <thead>\n",
       "    <tr style=\"text-align: right;\">\n",
       "      <th></th>\n",
       "      <th>Category</th>\n",
       "      <th>Rating</th>\n",
       "      <th>Reviews</th>\n",
       "      <th>Size</th>\n",
       "      <th>Installs</th>\n",
       "      <th>Type</th>\n",
       "      <th>Price</th>\n",
       "      <th>Content Rating</th>\n",
       "      <th>Genres</th>\n",
       "    </tr>\n",
       "  </thead>\n",
       "  <tbody>\n",
       "    <tr>\n",
       "      <th>10472</th>\n",
       "      <td>1.9</td>\n",
       "      <td>19.0</td>\n",
       "      <td>3.0M</td>\n",
       "      <td>1,000+</td>\n",
       "      <td>Free</td>\n",
       "      <td>0</td>\n",
       "      <td>Everyone</td>\n",
       "      <td>NaN</td>\n",
       "      <td>February 11, 2018</td>\n",
       "    </tr>\n",
       "  </tbody>\n",
       "</table>\n",
       "</div>"
      ],
      "text/plain": [
       "      Category  Rating Reviews    Size Installs Type     Price Content Rating  \\\n",
       "10472      1.9    19.0    3.0M  1,000+     Free    0  Everyone            NaN   \n",
       "\n",
       "                  Genres  \n",
       "10472  February 11, 2018  "
      ]
     },
     "execution_count": 10,
     "metadata": {},
     "output_type": "execute_result"
    }
   ],
   "source": [
    "data[data['Rating'] > 5]"
   ]
  },
  {
   "cell_type": "code",
   "execution_count": 11,
   "id": "608b9bef-da8d-4d7b-9e6d-33b415f42266",
   "metadata": {},
   "outputs": [
    {
     "data": {
      "text/plain": [
       "['ART_AND_DESIGN',\n",
       " 'AUTO_AND_VEHICLES',\n",
       " 'BEAUTY',\n",
       " 'BOOKS_AND_REFERENCE',\n",
       " 'BUSINESS',\n",
       " 'COMICS',\n",
       " 'COMMUNICATION',\n",
       " 'DATING',\n",
       " 'EDUCATION',\n",
       " 'ENTERTAINMENT',\n",
       " 'EVENTS',\n",
       " 'FINANCE',\n",
       " 'FOOD_AND_DRINK',\n",
       " 'HEALTH_AND_FITNESS',\n",
       " 'HOUSE_AND_HOME',\n",
       " 'LIBRARIES_AND_DEMO',\n",
       " 'LIFESTYLE',\n",
       " 'GAME',\n",
       " 'FAMILY',\n",
       " 'MEDICAL',\n",
       " 'SOCIAL',\n",
       " 'SHOPPING',\n",
       " 'PHOTOGRAPHY',\n",
       " 'SPORTS',\n",
       " 'TRAVEL_AND_LOCAL',\n",
       " 'TOOLS',\n",
       " 'PERSONALIZATION',\n",
       " 'PRODUCTIVITY',\n",
       " 'PARENTING',\n",
       " 'WEATHER',\n",
       " 'VIDEO_PLAYERS',\n",
       " 'NEWS_AND_MAGAZINES',\n",
       " 'MAPS_AND_NAVIGATION',\n",
       " '1.9']"
      ]
     },
     "execution_count": 11,
     "metadata": {},
     "output_type": "execute_result"
    }
   ],
   "source": [
    "data['Category'].unique().tolist()"
   ]
  },
  {
   "cell_type": "code",
   "execution_count": 12,
   "id": "39984415-859f-4edb-866c-2a3fb967d117",
   "metadata": {},
   "outputs": [],
   "source": [
    "rec = data[data['Category'] == '1.9'].index\n",
    "data = data.drop(rec)"
   ]
  },
  {
   "cell_type": "markdown",
   "id": "7b13fbb4-b7f6-44b3-ad20-14c77519cd45",
   "metadata": {},
   "source": [
    "# Encoding Techniques\n",
    "The Installs, Rating, Price, and Size, Category, Genre features had to be processed so they could be read as numbers as they were originally all objects. Each feature had their unique problems that had to be fixed. There are two techniques:\n",
    "\n",
    "One hot encoding: It takes a column which has categorical data, which has been label encoded, and then splits the column into multiple columns. The numbers are replaced by 1s and 0s, depending on which column has what value.\n",
    "Label Encoding: It refers to converting the labels into numeric form so as to convert it into the machine-readable form.\n",
    "For the Installs, the commas and had '+'s appended to the ends were removed . Price needed the '$' removed and converted into float. Here we have performed label encoding for rest of the features of object type."
   ]
  },
  {
   "cell_type": "code",
   "execution_count": 13,
   "id": "b5f402e8-ade9-4e54-be6c-10456b5cbbfb",
   "metadata": {},
   "outputs": [],
   "source": [
    "train_data = data.copy()"
   ]
  },
  {
   "cell_type": "code",
   "execution_count": 14,
   "id": "136ff517-3154-4857-8564-8b9cc29aa38e",
   "metadata": {},
   "outputs": [],
   "source": [
    "# Cleaning \"Price\" column\n",
    "train_data['Price'] = train_data['Price'].apply(lambda x : x.strip('$'))\n",
    "# Cleaning \"Installs\" column\n",
    "train_data['Installs'] = train_data['Installs'].apply(lambda x : x.strip('+').replace(',', ''))"
   ]
  },
  {
   "cell_type": "code",
   "execution_count": 15,
   "id": "7fc95072-f87a-46d0-a7a6-a3fd8cd07b14",
   "metadata": {},
   "outputs": [],
   "source": [
    "# Convert all these to float\n",
    "train_data['Price'] = train_data['Price'].astype(float)\n",
    "train_data['Installs'] = train_data['Installs'].astype(float)\n",
    "train_data['Reviews'] = train_data['Reviews'].astype(float)"
   ]
  },
  {
   "cell_type": "code",
   "execution_count": 16,
   "id": "9f2783c0-9b33-4b58-b76d-fb0176fbbb52",
   "metadata": {},
   "outputs": [],
   "source": [
    "# Remove record with Type nan\n",
    "rec = train_data[train_data['Type'].isnull()].index\n",
    "train_data = train_data.drop(rec)"
   ]
  },
  {
   "cell_type": "code",
   "execution_count": 17,
   "id": "233ce2e9-3636-4a41-8a38-4dd9946d6cbb",
   "metadata": {},
   "outputs": [
    {
     "data": {
      "text/plain": [
       "['Category', 'Size', 'Type', 'Content Rating', 'Genres']"
      ]
     },
     "execution_count": 17,
     "metadata": {},
     "output_type": "execute_result"
    }
   ],
   "source": [
    "# Get all features with type 'object'\n",
    "col_list = [c for c in train_data.columns if train_data[c].dtype == 'object']\n",
    "col_list"
   ]
  },
  {
   "cell_type": "code",
   "execution_count": 18,
   "id": "93dca1e8-c4e6-487d-837a-5c06560230a7",
   "metadata": {},
   "outputs": [],
   "source": [
    "# Encode features except Size\n",
    "for c in col_list:\n",
    "    if c != 'Size':\n",
    "        train_data[c] = train_data[c].astype('category')\n",
    "        train_data[c] = train_data[c].cat.codes"
   ]
  },
  {
   "cell_type": "code",
   "execution_count": 19,
   "id": "91055c40-33fc-4089-b592-cad5fcd40055",
   "metadata": {},
   "outputs": [
    {
     "name": "stdout",
     "output_type": "stream",
     "text": [
      "['Free', 'Paid', nan]\n",
      "[0, 1] \n",
      "\n"
     ]
    }
   ],
   "source": [
    "# Compare actual and encoded labels for column 'Type'\n",
    "print(data['Type'].unique().tolist())\n",
    "print(train_data['Type'].unique().tolist(), '\\n')"
   ]
  },
  {
   "cell_type": "code",
   "execution_count": 20,
   "id": "174b38ff-2134-4e13-89dc-2fb1b8308021",
   "metadata": {},
   "outputs": [],
   "source": [
    "# Replace \"Varies with device\" in Size with null value\n",
    "train_data.loc[train_data['Size'] == 'Varies with device', 'Size'] = np.nan"
   ]
  },
  {
   "cell_type": "code",
   "execution_count": 21,
   "id": "27dad26f-2eaf-4aad-a03a-5f42650d6370",
   "metadata": {},
   "outputs": [],
   "source": [
    "# Removing the suffixes (k and M) and representing all the data as bytes \n",
    "# (i.e)for k, value is multiplied by 1000 and for M, the value is multiplied by 1000000 \n",
    "train_data.Size = (train_data.Size.replace(r'[kM]+$', '', regex=True).astype(float) * \\\n",
    "             train_data.Size.str.extract(r'[\\d\\.]+([KM]+)', expand=False).fillna(1)\n",
    "            .replace(['k','M'], [10**3, 10**6]).astype(int))"
   ]
  },
  {
   "cell_type": "code",
   "execution_count": 22,
   "id": "24dc697e-c7c9-4055-bebe-40df800b57bc",
   "metadata": {},
   "outputs": [
    {
     "data": {
      "text/plain": [
       "Category             0\n",
       "Rating            1473\n",
       "Reviews              0\n",
       "Size              1694\n",
       "Installs             0\n",
       "Type                 0\n",
       "Price                0\n",
       "Content Rating       0\n",
       "Genres               0\n",
       "dtype: int64"
      ]
     },
     "execution_count": 22,
     "metadata": {},
     "output_type": "execute_result"
    }
   ],
   "source": [
    "# Now check null values\n",
    "train_data.isnull().sum()"
   ]
  },
  {
   "cell_type": "code",
   "execution_count": 23,
   "id": "10e0def6-91cd-4f7b-967b-fe250a2c36bd",
   "metadata": {},
   "outputs": [],
   "source": [
    "# For Size missing values\n",
    "# Get rows which are not null for Size\n",
    "X = train_data[train_data['Size'].notnull()]\n",
    "y = train_data.loc[train_data['Size'].notnull(), 'Size']\n",
    "X = X.drop(columns=['Size', 'Rating'])\n",
    "\n",
    "# Fit the model\n",
    "model = linear_model.LinearRegression()\n",
    "model.fit(X, y)\n",
    "\n",
    "# Get all rows with null values\n",
    "X_miss = train_data[train_data['Size'].isnull()]\n",
    "X_miss = X_miss.drop(columns = ['Size', 'Rating'])\n",
    "\n",
    "# Fill the predicted values\n",
    "train_data.loc[train_data['Size'].isnull(), 'Size'] = model.predict(X_miss)"
   ]
  },
  {
   "cell_type": "code",
   "execution_count": 24,
   "id": "23b1a7d5-fe59-42b8-8558-6bf3b187c670",
   "metadata": {},
   "outputs": [],
   "source": [
    "# For Rating missing values\n",
    "X = train_data[train_data['Rating'].notnull()]\n",
    "y = train_data.loc[train_data['Rating'].notnull(), 'Rating']\n",
    "X = X.drop(columns=['Rating'])\n",
    "\n",
    "# Fit model\n",
    "model = linear_model.LinearRegression()\n",
    "model.fit(X, y)\n",
    "\n",
    "# Get all rows with null values\n",
    "X_miss = train_data[train_data['Rating'].isnull()]\n",
    "X_miss = X_miss.drop(columns = ['Rating'])\n",
    "\n",
    "# Fill the predicted values\n",
    "train_data.loc[train_data['Rating'].isnull(), 'Rating'] = model.predict(X_miss)"
   ]
  },
  {
   "cell_type": "code",
   "execution_count": 25,
   "id": "6a0712a8-ad2d-4d65-868f-d34a676bf584",
   "metadata": {},
   "outputs": [
    {
     "data": {
      "text/plain": [
       "Category          0\n",
       "Rating            0\n",
       "Reviews           0\n",
       "Size              0\n",
       "Installs          0\n",
       "Type              0\n",
       "Price             0\n",
       "Content Rating    0\n",
       "Genres            0\n",
       "dtype: int64"
      ]
     },
     "execution_count": 25,
     "metadata": {},
     "output_type": "execute_result"
    }
   ],
   "source": [
    "train_data.isnull().sum()"
   ]
  },
  {
   "cell_type": "code",
   "execution_count": 26,
   "id": "1deb6501-69d9-404e-baec-4a57a28e486c",
   "metadata": {},
   "outputs": [
    {
     "data": {
      "text/plain": [
       "Category             int8\n",
       "Rating            float64\n",
       "Reviews           float64\n",
       "Size              float64\n",
       "Installs          float64\n",
       "Type                 int8\n",
       "Price             float64\n",
       "Content Rating       int8\n",
       "Genres               int8\n",
       "dtype: object"
      ]
     },
     "execution_count": 26,
     "metadata": {},
     "output_type": "execute_result"
    }
   ],
   "source": [
    "# Final data type of the data\n",
    "train_data.dtypes"
   ]
  },
  {
   "cell_type": "code",
   "execution_count": 27,
   "id": "273f1db2-b111-4ba3-bc83-334051fe41f1",
   "metadata": {},
   "outputs": [
    {
     "data": {
      "text/html": [
       "<div>\n",
       "<style scoped>\n",
       "    .dataframe tbody tr th:only-of-type {\n",
       "        vertical-align: middle;\n",
       "    }\n",
       "\n",
       "    .dataframe tbody tr th {\n",
       "        vertical-align: top;\n",
       "    }\n",
       "\n",
       "    .dataframe thead th {\n",
       "        text-align: right;\n",
       "    }\n",
       "</style>\n",
       "<table border=\"1\" class=\"dataframe\">\n",
       "  <thead>\n",
       "    <tr style=\"text-align: right;\">\n",
       "      <th></th>\n",
       "      <th>Category</th>\n",
       "      <th>Rating</th>\n",
       "      <th>Reviews</th>\n",
       "      <th>Size</th>\n",
       "      <th>Installs</th>\n",
       "      <th>Type</th>\n",
       "      <th>Price</th>\n",
       "      <th>Content Rating</th>\n",
       "      <th>Genres</th>\n",
       "    </tr>\n",
       "  </thead>\n",
       "  <tbody>\n",
       "    <tr>\n",
       "      <th>0</th>\n",
       "      <td>0</td>\n",
       "      <td>4.1</td>\n",
       "      <td>159.0</td>\n",
       "      <td>19000000.0</td>\n",
       "      <td>10000.0</td>\n",
       "      <td>0</td>\n",
       "      <td>0.0</td>\n",
       "      <td>1</td>\n",
       "      <td>9</td>\n",
       "    </tr>\n",
       "    <tr>\n",
       "      <th>1</th>\n",
       "      <td>0</td>\n",
       "      <td>3.9</td>\n",
       "      <td>967.0</td>\n",
       "      <td>14000000.0</td>\n",
       "      <td>500000.0</td>\n",
       "      <td>0</td>\n",
       "      <td>0.0</td>\n",
       "      <td>1</td>\n",
       "      <td>12</td>\n",
       "    </tr>\n",
       "    <tr>\n",
       "      <th>2</th>\n",
       "      <td>0</td>\n",
       "      <td>4.7</td>\n",
       "      <td>87510.0</td>\n",
       "      <td>8700000.0</td>\n",
       "      <td>5000000.0</td>\n",
       "      <td>0</td>\n",
       "      <td>0.0</td>\n",
       "      <td>1</td>\n",
       "      <td>9</td>\n",
       "    </tr>\n",
       "    <tr>\n",
       "      <th>3</th>\n",
       "      <td>0</td>\n",
       "      <td>4.5</td>\n",
       "      <td>215644.0</td>\n",
       "      <td>25000000.0</td>\n",
       "      <td>50000000.0</td>\n",
       "      <td>0</td>\n",
       "      <td>0.0</td>\n",
       "      <td>4</td>\n",
       "      <td>9</td>\n",
       "    </tr>\n",
       "    <tr>\n",
       "      <th>4</th>\n",
       "      <td>0</td>\n",
       "      <td>4.3</td>\n",
       "      <td>967.0</td>\n",
       "      <td>2800000.0</td>\n",
       "      <td>100000.0</td>\n",
       "      <td>0</td>\n",
       "      <td>0.0</td>\n",
       "      <td>1</td>\n",
       "      <td>11</td>\n",
       "    </tr>\n",
       "  </tbody>\n",
       "</table>\n",
       "</div>"
      ],
      "text/plain": [
       "   Category  Rating   Reviews        Size    Installs  Type  Price  \\\n",
       "0         0     4.1     159.0  19000000.0     10000.0     0    0.0   \n",
       "1         0     3.9     967.0  14000000.0    500000.0     0    0.0   \n",
       "2         0     4.7   87510.0   8700000.0   5000000.0     0    0.0   \n",
       "3         0     4.5  215644.0  25000000.0  50000000.0     0    0.0   \n",
       "4         0     4.3     967.0   2800000.0    100000.0     0    0.0   \n",
       "\n",
       "   Content Rating  Genres  \n",
       "0               1       9  \n",
       "1               1      12  \n",
       "2               1       9  \n",
       "3               4       9  \n",
       "4               1      11  "
      ]
     },
     "execution_count": 27,
     "metadata": {},
     "output_type": "execute_result"
    }
   ],
   "source": [
    "#Analyse the preprocessed data\n",
    "train_data.head()"
   ]
  },
  {
   "cell_type": "markdown",
   "id": "c23a44f8-feec-4865-94ff-5a6528047891",
   "metadata": {},
   "source": [
    "# Data Analysis and Visualizations\n",
    "Performing a detailed analysis of the data helps understand which features are important, what's their correlation with each other which features would contribute in predicting the target variable. Different types of visualizations and plots can help you acheive that. I used different plots."
   ]
  },
  {
   "cell_type": "code",
   "execution_count": 28,
   "id": "26391d84-236f-466b-9a4a-1080cfc37c04",
   "metadata": {},
   "outputs": [
    {
     "name": "stderr",
     "output_type": "stream",
     "text": [
      "C:\\ProgramData\\anaconda3\\Lib\\site-packages\\seaborn\\matrix.py:260: FutureWarning: Format strings passed to MaskedConstant are ignored, but in future may error or produce different behavior\n",
      "  annotation = (\"{:\" + self.fmt + \"}\").format(val)\n"
     ]
    },
    {
     "data": {
      "text/plain": [
       "<Axes: >"
      ]
     },
     "execution_count": 28,
     "metadata": {},
     "output_type": "execute_result"
    },
    {
     "data": {
      "image/png": "[encoded data removed]",
      "text/plain": [
       "<Figure size 900x800 with 2 Axes>"
      ]
     },
     "metadata": {},
     "output_type": "display_data"
    }
   ],
   "source": [
    "# Correlation heatmap\n",
    "corr = train_data.corr() \n",
    "plt.figure(figsize=(9, 8))\n",
    "\n",
    "sns.heatmap(corr[(corr >= 0.1) | (corr <= -0.1)], \n",
    "            cmap='viridis', vmax=1.0, vmin=-1.0, linewidths=0.1,\n",
    "            annot=True, annot_kws={\"size\": 8}, square=True)"
   ]
  },
  {
   "cell_type": "code",
   "execution_count": 29,
   "id": "8c3a61b8-bddf-4216-a2e6-69b650ad3a2b",
   "metadata": {},
   "outputs": [
    {
     "data": {
      "text/plain": [
       "Text(0.5, 1.0, 'Distribution of Rating')"
      ]
     },
     "execution_count": 29,
     "metadata": {},
     "output_type": "execute_result"
    },
    {
     "data": {
      "image/png": "[encoded data removed]",
      "text/plain": [
       "<Figure size 1100x800 with 1 Axes>"
      ]
     },
     "metadata": {},
     "output_type": "display_data"
    }
   ],
   "source": [
    "from pylab import rcParams\n",
    "import warnings\n",
    "warnings.filterwarnings('ignore')\n",
    "\n",
    "# rating distibution \n",
    "rcParams['figure.figsize'] = 11,8\n",
    "g = sns.kdeplot(data.Rating, color=\"Red\", shade = True)\n",
    "g.set_xlabel(\"Rating\")\n",
    "g.set_ylabel(\"Frequency\")\n",
    "plt.title('Distribution of Rating',size = 20)"
   ]
  },
  {
   "cell_type": "code",
   "execution_count": 30,
   "id": "25597d04-8ecf-4e05-b59e-d7b6fe32f00a",
   "metadata": {},
   "outputs": [
    {
     "data": {
      "text/plain": [
       "Text(0.5, 1.0, 'Count of app in each category')"
      ]
     },
     "execution_count": 30,
     "metadata": {},
     "output_type": "execute_result"
    },
    {
     "data": {
      "image/png": "[encoded data removed]",
      "text/plain": [
       "<Figure size 1000x500 with 1 Axes>"
      ]
     },
     "metadata": {},
     "output_type": "display_data"
    }
   ],
   "source": [
    "#Game and Family category are the most appearances for application in store\n",
    "plt.figure(figsize=(10, 5))\n",
    "g = sns.countplot(x=\"Category\",data=data, palette = \"Set1\")\n",
    "g.set_xticklabels(g.get_xticklabels(), rotation=90, ha=\"right\")\n",
    "g \n",
    "plt.title('Count of app in each category')"
   ]
  },
  {
   "cell_type": "code",
   "execution_count": 31,
   "id": "8df8735e-666a-4c8e-a89b-cea70d794ec0",
   "metadata": {},
   "outputs": [
    {
     "data": {
      "image/png": "[encoded data removed]",
      "text/plain": [
       "<Figure size 700x700 with 1 Axes>"
      ]
     },
     "metadata": {},
     "output_type": "display_data"
    }
   ],
   "source": [
    "# about 93% of the apps are free on google playstore\n",
    "labels =data['Type'].value_counts(sort = True).index\n",
    "sizes = data['Type'].value_counts(sort = True)\n",
    "\n",
    "\n",
    "colors = [\"lightblue\",\"orange\"]\n",
    "explode = (0.1,0)  # explode 1st slice\n",
    " \n",
    "rcParams['figure.figsize'] = 7,7\n",
    "# Plot\n",
    "plt.pie(sizes, explode=explode, labels=labels, colors=colors,\n",
    "        autopct='%1.1f%%', shadow=True, startangle=270,)\n",
    "\n",
    "plt.title('Percent of Free and paid Apps in store',size = 20)\n",
    "plt.show()"
   ]
  },
  {
   "cell_type": "markdown",
   "id": "a696946c-fdde-49bb-94d4-8fb4ca34abb9",
   "metadata": {},
   "source": [
    "# Model Training\n",
    "This is a Regression problem since I am predicting Apps rating which is a continous random variable. The steps involved are as follows:\n",
    "\n",
    "Standardize or Normalize Training Data\n",
    "Train Test Split\n",
    "Train Model\n",
    "Evaluate Important Features"
   ]
  },
  {
   "cell_type": "markdown",
   "id": "4d072146-b06e-4f0a-83b7-260361ae16c0",
   "metadata": {},
   "source": [
    "# Standarize Data\n",
    "In order to standarize, only those columns should be selected which are not categorical in nature. Standarization works best for features having large values. Here I have used StandardScaler() method of python. The idea behind StandardScaler is that it will transform data such that its distribution will have a mean value 0 and standard deviation of 1. Given the distribution of the data, each value in the dataset will have the sample mean value subtracted, and then divided by the standard deviation of the whole dataset."
   ]
  },
  {
   "cell_type": "code",
   "execution_count": 32,
   "id": "ecffbea2-1e91-4dfd-8edc-1a46c3abdc12",
   "metadata": {},
   "outputs": [
    {
     "data": {
      "text/html": [
       "<div>\n",
       "<style scoped>\n",
       "    .dataframe tbody tr th:only-of-type {\n",
       "        vertical-align: middle;\n",
       "    }\n",
       "\n",
       "    .dataframe tbody tr th {\n",
       "        vertical-align: top;\n",
       "    }\n",
       "\n",
       "    .dataframe thead th {\n",
       "        text-align: right;\n",
       "    }\n",
       "</style>\n",
       "<table border=\"1\" class=\"dataframe\">\n",
       "  <thead>\n",
       "    <tr style=\"text-align: right;\">\n",
       "      <th></th>\n",
       "      <th>Category</th>\n",
       "      <th>Rating</th>\n",
       "      <th>Reviews</th>\n",
       "      <th>Size</th>\n",
       "      <th>Installs</th>\n",
       "      <th>Type</th>\n",
       "      <th>Price</th>\n",
       "      <th>Content Rating</th>\n",
       "      <th>Genres</th>\n",
       "    </tr>\n",
       "  </thead>\n",
       "  <tbody>\n",
       "    <tr>\n",
       "      <th>0</th>\n",
       "      <td>0</td>\n",
       "      <td>4.1</td>\n",
       "      <td>-0.151664</td>\n",
       "      <td>-0.140860</td>\n",
       "      <td>-0.181770</td>\n",
       "      <td>0</td>\n",
       "      <td>-0.064419</td>\n",
       "      <td>1</td>\n",
       "      <td>9</td>\n",
       "    </tr>\n",
       "    <tr>\n",
       "      <th>1</th>\n",
       "      <td>0</td>\n",
       "      <td>3.9</td>\n",
       "      <td>-0.151388</td>\n",
       "      <td>-0.366005</td>\n",
       "      <td>-0.176007</td>\n",
       "      <td>0</td>\n",
       "      <td>-0.064419</td>\n",
       "      <td>1</td>\n",
       "      <td>12</td>\n",
       "    </tr>\n",
       "    <tr>\n",
       "      <th>2</th>\n",
       "      <td>0</td>\n",
       "      <td>4.7</td>\n",
       "      <td>-0.121828</td>\n",
       "      <td>-0.604659</td>\n",
       "      <td>-0.123084</td>\n",
       "      <td>0</td>\n",
       "      <td>-0.064419</td>\n",
       "      <td>1</td>\n",
       "      <td>9</td>\n",
       "    </tr>\n",
       "    <tr>\n",
       "      <th>3</th>\n",
       "      <td>0</td>\n",
       "      <td>4.5</td>\n",
       "      <td>-0.078063</td>\n",
       "      <td>0.129314</td>\n",
       "      <td>0.406145</td>\n",
       "      <td>0</td>\n",
       "      <td>-0.064419</td>\n",
       "      <td>4</td>\n",
       "      <td>9</td>\n",
       "    </tr>\n",
       "    <tr>\n",
       "      <th>4</th>\n",
       "      <td>0</td>\n",
       "      <td>4.3</td>\n",
       "      <td>-0.151388</td>\n",
       "      <td>-0.870330</td>\n",
       "      <td>-0.180712</td>\n",
       "      <td>0</td>\n",
       "      <td>-0.064419</td>\n",
       "      <td>1</td>\n",
       "      <td>11</td>\n",
       "    </tr>\n",
       "  </tbody>\n",
       "</table>\n",
       "</div>"
      ],
      "text/plain": [
       "   Category  Rating   Reviews      Size  Installs  Type     Price  \\\n",
       "0         0     4.1 -0.151664 -0.140860 -0.181770     0 -0.064419   \n",
       "1         0     3.9 -0.151388 -0.366005 -0.176007     0 -0.064419   \n",
       "2         0     4.7 -0.121828 -0.604659 -0.123084     0 -0.064419   \n",
       "3         0     4.5 -0.078063  0.129314  0.406145     0 -0.064419   \n",
       "4         0     4.3 -0.151388 -0.870330 -0.180712     0 -0.064419   \n",
       "\n",
       "   Content Rating  Genres  \n",
       "0               1       9  \n",
       "1               1      12  \n",
       "2               1       9  \n",
       "3               4       9  \n",
       "4               1      11  "
      ]
     },
     "execution_count": 32,
     "metadata": {},
     "output_type": "execute_result"
    }
   ],
   "source": [
    "# Standardize data\n",
    "# Columns not to be standardized. These are columns with categorical data, \n",
    "# also we don't standardize our target vraiable\n",
    "cols = ['Category', 'Type', 'Content Rating', 'Genres', 'Rating']\n",
    "\n",
    "# Pick remaining columns and standardize them \n",
    "columns = [c for c in train_data.columns if c not in cols]\n",
    "scaler = StandardScaler()\n",
    "scaler.fit(train_data[columns])\n",
    "train_data[columns] = scaler.transform(train_data[columns])\n",
    "\n",
    "# Check data after standarization\n",
    "train_data.head()"
   ]
  },
  {
   "cell_type": "markdown",
   "id": "24035076-7560-45cd-84c1-e7c63f287312",
   "metadata": {},
   "source": [
    "# Train Test Split\n",
    "I have used train_test_split to split my data into training and validation set. I have used 80% of the data for training purpose and 20% of the data for validation."
   ]
  },
  {
   "cell_type": "code",
   "execution_count": 33,
   "id": "f61e5e8c-6b55-4142-a948-a233938e10bd",
   "metadata": {},
   "outputs": [
    {
     "name": "stdout",
     "output_type": "stream",
     "text": [
      "Training Set Dimensions: (8671, 8)\n",
      "Validation Set Dimensions: (2168, 8)\n"
     ]
    }
   ],
   "source": [
    "# Train Test Split\n",
    "# Split data to 80% of the training and 20% for the validation\n",
    "y = train_data['Rating']\n",
    "X = train_data.drop(columns=['Rating'])\n",
    "X_train, X_test, y_train, y_test = train_test_split(X, y, test_size=0.2)\n",
    "print(\"Training Set Dimensions:\", X_train.shape)\n",
    "print(\"Validation Set Dimensions:\", X_test.shape)"
   ]
  },
  {
   "cell_type": "markdown",
   "id": "ebb95df4-df3e-4177-8e73-caee62599c1a",
   "metadata": {},
   "source": [
    "# Random Forest Regressor\n",
    "A Random Forest is an ensemble technique capable of performing both regression and classification tasks with the use of multiple decision trees. The basic idea behind this is to combine multiple decision trees in determining the final output rather than relying on individual decision trees. Here we have used it for regression problem."
   ]
  },
  {
   "cell_type": "code",
   "execution_count": 34,
   "id": "d4d3fc84-4a76-49e4-8b33-9f0cb7738cdb",
   "metadata": {},
   "outputs": [
    {
     "name": "stdout",
     "output_type": "stream",
     "text": [
      "Mean squared Error for Training Set: 0.0277705028763053\n",
      "Mean squared Error for Test Set: 0.19730315128299208\n"
     ]
    }
   ],
   "source": [
    "# Train Random Forest Regressor\n",
    "randomf = RandomForestRegressor(n_estimators=300)\n",
    "randomf.fit(X_train, y_train)\n",
    "\n",
    "# Measure mean squared error for training and validation sets\n",
    "print('Mean squared Error for Training Set:', mean_squared_error(y_train, randomf.predict(X_train)))\n",
    "print('Mean squared Error for Test Set:', mean_squared_error(y_test, randomf.predict(X_test)))"
   ]
  },
  {
   "cell_type": "code",
   "execution_count": 35,
   "id": "f1879132-48e6-4cde-8c33-5d86290833c7",
   "metadata": {},
   "outputs": [
    {
     "name": "stdout",
     "output_type": "stream",
     "text": [
      "feature: Category = 0.09466571287106852\n",
      "feature: Reviews = 0.3459252686182521\n",
      "feature: Size = 0.29330443139571266\n",
      "feature: Installs = 0.09660450405682594\n",
      "feature: Type = 0.005040943020932148\n",
      "feature: Price = 0.027559390932714648\n",
      "feature: Content Rating = 0.028535089204177452\n",
      "feature: Genres = 0.10836465990031664\n"
     ]
    },
    {
     "data": {
      "image/png": "[encoded data removed]",
      "text/plain": [
       "<Figure size 600x400 with 1 Axes>"
      ]
     },
     "metadata": {},
     "output_type": "display_data"
    }
   ],
   "source": [
    "# Important features for random forest regressor\n",
    "for name, importance in zip(X.columns, randomf.feature_importances_):\n",
    "    print('feature:', name, \"=\", importance)\n",
    "    \n",
    "importances = randomf.feature_importances_\n",
    "indices = np.argsort(importances)\n",
    "features = X.columns\n",
    "plt.figure(figsize=(6, 4))\n",
    "plt.title('Feature Importances')\n",
    "plt.barh(range(len(indices)), importances[indices], color='g', align='center')\n",
    "plt.yticks(range(len(indices)), [features[i] for i in indices])\n",
    "plt.xlabel('Relative Importance')\n",
    "plt.show()"
   ]
  },
  {
   "cell_type": "markdown",
   "id": "7a2fa823-8d52-4115-aeab-b21fc2a135df",
   "metadata": {},
   "source": [
    "# Bagging Regressor\n",
    "Bootstrap Aggregation (or Bagging for short), is a simple and very powerful ensemble method. An ensemble method is a technique that combines the predictions from multiple machine learning algorithms together to make more accurate predictions than any individual model.\n",
    "\n",
    "Bootstrap Aggregation is a general procedure that can be used to reduce the variance for those algorithm that have high variance. An algorithm that has high variance are decision trees, like classification and regression trees (CART). Bagging of the CART algorithm would work as follows.\n",
    "\n",
    "Create many (e.g. 100) random sub-samples of our dataset with replacement.\n",
    "Train a CART model on each sample.\n",
    "Given a new dataset, calculate the average prediction from each model."
   ]
  },
  {
   "cell_type": "code",
   "execution_count": 36,
   "id": "36259d13-1e56-4c3d-afa7-293443d9e9c9",
   "metadata": {},
   "outputs": [
    {
     "name": "stdout",
     "output_type": "stream",
     "text": [
      "Mean squared Error for Training Set: 0.03810970868434892\n",
      "Mean squared Error for Test Set: 0.21427086753383834\n"
     ]
    }
   ],
   "source": [
    "# Fit model\n",
    "br = BaggingRegressor(random_state=300)\n",
    "                            \n",
    "br.fit(X_train, y_train)\n",
    "\n",
    "# Measure mean squared error for training and validation sets\n",
    "print('Mean squared Error for Training Set:', mean_squared_error(y_train, br.predict(X_train)))\n",
    "print('Mean squared Error for Test Set:', mean_squared_error(y_test, br.predict(X_test)))"
   ]
  },
  {
   "cell_type": "markdown",
   "id": "faf1635c-da3e-402b-b85a-b16c72667cc1",
   "metadata": {},
   "source": [
    "# KNN Regressor\n",
    "KNN can be used for both classification and regression problems. The algorithm uses 'feature similarity' to predict values of any new data points. This means that the new point is assigned a value based on how closely it resembles the points in the training set."
   ]
  },
  {
   "cell_type": "code",
   "execution_count": 37,
   "id": "eb07414e-678f-4bff-9ecf-e89cfda4eea0",
   "metadata": {},
   "outputs": [
    {
     "name": "stdout",
     "output_type": "stream",
     "text": [
      "Mean squared Error for Training Set: 0.16243512289005188\n",
      "Mean squared Error for Test Set: 0.23906857241625318\n"
     ]
    }
   ],
   "source": [
    "# Fit model\n",
    "knr = KNeighborsRegressor(n_neighbors = 5)\n",
    "knr.fit(X_train, y_train)\n",
    "\n",
    "# Measure mean squared error for training and validation sets\n",
    "print('Mean squared Error for Training Set:', mean_squared_error(y_train, knr.predict(X_train)))\n",
    "print('Mean squared Error for Test Set:', mean_squared_error(y_test, knr.predict(X_test)))"
   ]
  },
  {
   "cell_type": "markdown",
   "id": "842063f3-5359-485c-8833-6ec9076009d1",
   "metadata": {},
   "source": [
    "# Linear Regression\n",
    "Multiple linear regression (MLR), also known simply as multiple regression, is a statistical technique that uses several explanatory variables to predict the outcome of a response variable. The goal of multiple linear regression (MLR) is to model the linear relationship between the explanatory (independent) variables and response (dependent) variable.\n",
    "\n",
    "In essence, multiple regression is the extension of ordinary least-squares (OLS) regression that involves more than one explanatory variable."
   ]
  },
  {
   "cell_type": "code",
   "execution_count": 38,
   "id": "73443101-8b58-43be-b055-167ad3a04163",
   "metadata": {},
   "outputs": [
    {
     "name": "stdout",
     "output_type": "stream",
     "text": [
      "Mean squared Error for Training Set: 0.22748107759930355\n",
      "Mean squared Error for Test Set: 0.22238020442244774\n"
     ]
    }
   ],
   "source": [
    "# Fit the model\n",
    "model = LinearRegression()\n",
    "model.fit(X_train, y_train)\n",
    "\n",
    "# Measure mean squared error` for training and validation sets\n",
    "print('Mean squared Error for Training Set:', mean_squared_error(y_train, model.predict(X_train)))\n",
    "print('Mean squared Error for Test Set:', mean_squared_error(y_test, model.predict(X_test)))"
   ]
  },
  {
   "cell_type": "markdown",
   "id": "387b20de-12cc-49f0-b537-3f792df3ff6f",
   "metadata": {},
   "source": [
    "# Results\n",
    "Above all techniques, Random Forest Regressor performed best with testing mean squared error of 0.19\n",
    "\n",
    "Hyper-parameter tuning can be performed on this data and there are a couple of ways to do this but an efficient solution is using Grid-Search-Cross-Validation approach where we have to form a grid of parameters and iteratively apply cross-validation to find the best set of parameters for which model performs the best."
   ]
  },
  {
   "cell_type": "code",
   "execution_count": null,
   "id": "4ea06c70-c86d-4bbb-92bd-2dab748e4464",
   "metadata": {},
   "outputs": [],
   "source": []
  }
 ],
 "metadata": {
  "kernelspec": {
   "display_name": "Python 3 (ipykernel)",
   "language": "python",
   "name": "python3"
  },
  "language_info": {
   "codemirror_mode": {
    "name": "ipython",
    "version": 3
   },
   "file_extension": ".py",
   "mimetype": "text/x-python",
   "name": "python",
   "nbconvert_exporter": "python",
   "pygments_lexer": "ipython3",
   "version": "3.11.7"
  }
 },
 "nbformat": 4,
 "nbformat_minor": 5
}
